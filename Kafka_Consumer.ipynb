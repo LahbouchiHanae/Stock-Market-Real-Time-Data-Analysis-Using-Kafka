{
 "cells": [
  {
   "cell_type": "code",
   "execution_count": null,
   "id": "2a475e2e-ac2f-40a0-8db4-0a91133fe36a",
   "metadata": {},
   "outputs": [],
   "source": [
    "pip install s3fs"
   ]
  },
  {
   "cell_type": "code",
   "execution_count": null,
   "id": "c4f589d0-1209-4389-8361-cbf999b5c8f2",
   "metadata": {},
   "outputs": [],
   "source": [
    "from kafka import KafkaConsumer\n",
    "from time import sleep\n",
    "from json import dumps, loads\n",
    "import json\n",
    "from s3fs import S3FileSystem"
   ]
  },
  {
   "cell_type": "code",
   "execution_count": null,
   "id": "434204dd-dbe6-47fe-9f52-ec15cbd02720",
   "metadata": {},
   "outputs": [],
   "source": [
    "consumer = KafkaConsumer(\n",
    "    'topic1',\n",
    "    bootstrap_servers=['My EC2 Public IP adress:9092'],\n",
    "    value_deserializer=lambda x: loads(x.decode('utf-8'))\n",
    ")"
   ]
  },
  {
   "cell_type": "code",
   "execution_count": null,
   "id": "527d8a35-1cbe-4cc7-b3af-4e7cceedcd4e",
   "metadata": {},
   "outputs": [],
   "source": [
    "#for c in consumer :\n",
    "#    print(c.value)"
   ]
  },
  {
   "cell_type": "code",
   "execution_count": null,
   "id": "f20ded00-f435-42c9-a05b-1125d326eab4",
   "metadata": {},
   "outputs": [],
   "source": [
    "s3 = S3FileSystem()"
   ]
  },
  {
   "cell_type": "code",
   "execution_count": null,
   "id": "79a3f056-c445-434b-ad62-d19834b965cc",
   "metadata": {},
   "outputs": [],
   "source": [
    "for count, i in enumerate(consumer):\n",
    "    with s3.open(\"s3://kafka-stock-market-analysis/stock_market_{}.json\".format(count), 'w') as file:\n",
    "         json.dump(i.value, file)"
   ]
  },
  {
   "cell_type": "code",
   "execution_count": null,
   "id": "1c278c42-b5bb-4a2f-89a5-5bc1f5213fb0",
   "metadata": {},
   "outputs": [],
   "source": []
  }
 ],
 "metadata": {
  "kernelspec": {
   "display_name": "Python 3 (ipykernel)",
   "language": "python",
   "name": "python3"
  },
  "language_info": {
   "codemirror_mode": {
    "name": "ipython",
    "version": 3
   },
   "file_extension": ".py",
   "mimetype": "text/x-python",
   "name": "python",
   "nbconvert_exporter": "python",
   "pygments_lexer": "ipython3",
   "version": "3.11.3"
  }
 },
 "nbformat": 4,
 "nbformat_minor": 5
}
