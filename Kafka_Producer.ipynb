{
 "cells": [
  {
   "cell_type": "code",
   "execution_count": null,
   "id": "8f5d03d1-4cfc-43e8-879c-5202031ce60d",
   "metadata": {},
   "outputs": [],
   "source": [
    "pip install kafka-python"
   ]
  },
  {
   "cell_type": "code",
<<<<<<< HEAD
   "execution_count": 22,
=======
   "execution_count": null,
>>>>>>> 49857da (kafka Producer)
   "id": "a5e31dbf-fd01-4fda-b881-c7150ec42a9c",
   "metadata": {},
   "outputs": [],
   "source": [
    "import pandas as pd\n",
    "from kafka import KafkaProducer\n",
    "from time import sleep\n",
    "from json import dumps\n",
    "import json"
   ]
  },
  {
   "cell_type": "code",
<<<<<<< HEAD
   "execution_count": 19,
=======
   "execution_count": null,
>>>>>>> 49857da (kafka Producer)
   "id": "60b36f7a-22c7-4677-ac89-aa876662f191",
   "metadata": {},
   "outputs": [],
   "source": [
    "producer = KafkaProducer(bootstrap_servers=['44.220.161.251:9092'],\n",
    "                         value_serializer=lambda x: \n",
    "                         dumps(x).encode('utf-8'),\n",
    "                        request_timeout_ms=20000,  # augmenter le timeout si le réseau est instable\n",
    "                        retry_backoff_ms=5000      # attendre un moment avant de réessayer\n",
    ")"
   ]
  },
  {
   "cell_type": "code",
<<<<<<< HEAD
   "execution_count": 24,
   "id": "2ce8dfd5-2265-4b61-851a-ae9ed7188894",
   "metadata": {},
   "outputs": [
    {
     "data": {
      "text/plain": [
       "<kafka.producer.future.FutureRecordMetadata at 0x2745cdbd690>"
      ]
     },
     "execution_count": 24,
     "metadata": {},
     "output_type": "execute_result"
    }
   ],
=======
   "execution_count": null,
   "id": "2ce8dfd5-2265-4b61-851a-ae9ed7188894",
   "metadata": {},
   "outputs": [],
>>>>>>> 49857da (kafka Producer)
   "source": [
    "producer.send('topic1', value={'Name':'Hanae Lahbouchi'})"
   ]
  },
  {
   "cell_type": "code",
<<<<<<< HEAD
=======
   "execution_count": null,
   "id": "f898df50-8260-4a4b-9cbf-4cd50ab8f6c6",
   "metadata": {},
   "outputs": [],
   "source": [
    "df = pd.read_csv(\"indexProcessed.csv\")"
   ]
  },
  {
   "cell_type": "code",
   "execution_count": null,
   "id": "586f4500-a12c-4da5-8806-eebfbaf0ea1f",
   "metadata": {},
   "outputs": [],
   "source": [
    "df.head()"
   ]
  },
  {
   "cell_type": "code",
   "execution_count": null,
   "id": "e9015cdf-cc7d-454c-9653-62f088764270",
   "metadata": {},
   "outputs": [],
   "source": [
    "while True:\n",
    "    dict_stock = df.sample(1).to_dict(orient=\"records\")[0]\n",
    "    producer.send('topic1', value=dict_stock)\n",
    "    sleep(1)"
   ]
  },
  {
   "cell_type": "code",
   "execution_count": null,
   "id": "e7cce41e-cae7-462b-ac08-1195120bb6eb",
   "metadata": {},
   "outputs": [],
   "source": [
    "producer.flush() "
   ]
  },
  {
   "cell_type": "code",
>>>>>>> 49857da (kafka Producer)
   "execution_count": null,
   "id": "f898df50-8260-4a4b-9cbf-4cd50ab8f6c6",
   "metadata": {},
   "outputs": [],
   "source": []
  }
 ],
 "metadata": {
  "kernelspec": {
   "display_name": "Python 3 (ipykernel)",
   "language": "python",
   "name": "python3"
  },
  "language_info": {
   "codemirror_mode": {
    "name": "ipython",
    "version": 3
   },
   "file_extension": ".py",
   "mimetype": "text/x-python",
   "name": "python",
   "nbconvert_exporter": "python",
   "pygments_lexer": "ipython3",
   "version": "3.11.3"
  }
 },
 "nbformat": 4,
 "nbformat_minor": 5
}
